{
 "cells": [
  {
   "cell_type": "markdown",
   "metadata": {},
   "source": [
    "### Analyse de sentiment tweets avec RNN(LSTM) + WordEmbedding"
   ]
  },
  {
   "cell_type": "code",
   "execution_count": 256,
   "metadata": {},
   "outputs": [],
   "source": [
    "# importation des outils à utilisés\n",
    "import pandas as pd\n",
    "import numpy as np\n",
    "import sklearn\n",
    "from sklearn.metrics import confusion_matrix\n",
    "from sklearn.utils.multiclass import unique_labels\n",
    "from sklearn.model_selection import train_test_split\n",
    "import matplotlib.pyplot as plt\n",
    "\n",
    "from tensorflow.keras.models import Sequential\n",
    "from tensorflow.keras.layers import Dense\n",
    "from tensorflow.keras.layers import LSTM\n",
    "\n",
    "from tensorflow.keras.preprocessing.text import Tokenizer\n",
    "from keras.preprocessing import sequence\n",
    "\n",
    "from tensorflow.keras.preprocessing.sequence import pad_sequences\n",
    "from tensorflow.keras.utils import to_categorical\n"
   ]
  },
  {
   "cell_type": "code",
   "execution_count": 213,
   "metadata": {},
   "outputs": [
    {
     "name": "stdout",
     "output_type": "stream",
     "text": [
      "   label                                               text\n",
      "0      1  one of the best if not the best video i've eve...\n",
      "1      0  great if you are a personal assistant - not so...\n",
      "2      1  i'm fine, just gonna start bumping my stories ...\n",
      "3      1                                love at first taste\n",
      "4      0  harry potter and the deathly hallow, part 2 is...\n",
      "200000  tweets\n"
     ]
    }
   ],
   "source": [
    "# importation du dataset\n",
    "data = pd.read_csv('amazon_yelp_twitter200k.csv',encoding='utf-8')\n",
    "print(data.head())"
   ]
  },
  {
   "cell_type": "code",
   "execution_count": 255,
   "metadata": {},
   "outputs": [
    {
     "name": "stdout",
     "output_type": "stream",
     "text": [
      "97916 tweets negative\n",
      "102084 tweets negative\n",
      "200000  totale des tweets\n"
     ]
    }
   ],
   "source": [
    "print(len(data[data['label'] == 0]), \"tweets negative\")\n",
    "print(len(data[data['label'] == 1]), \"tweets negative\")\n",
    "print(len(data),' totale des tweets')"
   ]
  },
  {
   "cell_type": "code",
   "execution_count": 168,
   "metadata": {},
   "outputs": [],
   "source": [
    "X = data['text'].astype(str)\n",
    "Y = data['label']"
   ]
  },
  {
   "cell_type": "code",
   "execution_count": 169,
   "metadata": {},
   "outputs": [],
   "source": [
    "t = Tokenizer()\n",
    "t.fit_on_texts(X)"
   ]
  },
  {
   "cell_type": "code",
   "execution_count": 170,
   "metadata": {},
   "outputs": [],
   "source": [
    "# tourver le nombre des uniques tokens\n",
    "vocab_size = len(t.word_index) + 1\n",
    "sequences = t.texts_to_sequences(X)"
   ]
  },
  {
   "cell_type": "code",
   "execution_count": 215,
   "metadata": {},
   "outputs": [
    {
     "name": "stdout",
     "output_type": "stream",
     "text": [
      "12\n"
     ]
    }
   ],
   "source": [
    "# calculer le plus long tweets dans les sequeces\n",
    "def max_len_tweet():\n",
    "    for i in range(1, len(sequences)):\n",
    "        max_length = len(sequences[0])\n",
    "        if len(sequences[i]) > max_length:\n",
    "            max_length = len(sequences[i])\n",
    "    return max_length\n",
    "\n",
    "tweet_num = max_len_tweet()\n",
    "print(tweet_num)"
   ]
  },
  {
   "cell_type": "code",
   "execution_count": 173,
   "metadata": {},
   "outputs": [],
   "source": [
    "maxlen = tweet_num\n",
    "padded_X = pad_sequences(sequences, padding='post', maxlen=maxlen)"
   ]
  },
  {
   "cell_type": "code",
   "execution_count": 174,
   "metadata": {},
   "outputs": [],
   "source": [
    "labels = to_categorical(np.asarray(Y))"
   ]
  },
  {
   "cell_type": "code",
   "execution_count": 202,
   "metadata": {},
   "outputs": [],
   "source": [
    "x_train, x_test, y_train, y_test = train_test_split(padded_X,labels, test_size=0.25, random_state=100)"
   ]
  },
  {
   "cell_type": "code",
   "execution_count": 203,
   "metadata": {},
   "outputs": [],
   "source": [
    "x_train = sequence.pad_sequences(x_train, maxlen=tweet_num)\n",
    "x_test = sequence.pad_sequences(x_test, maxlen=tweet_num)"
   ]
  },
  {
   "cell_type": "code",
   "execution_count": 216,
   "metadata": {},
   "outputs": [
    {
     "name": "stdout",
     "output_type": "stream",
     "text": [
      "Loading 400000 word vectors.\n"
     ]
    }
   ],
   "source": [
    "# utlisé un modele glove preentraine de 50 dimension\n",
    "embeddings_index = dict()\n",
    "f = open('glove.6B.50d.txt', encoding='utf-8')\n",
    "for line in f:\n",
    "    values = line.split()\n",
    "    word = values[0]\n",
    "    coefs = np.asarray(values[1:], dtype='float32')\n",
    "    embeddings_index[word] = coefs\n",
    "f.close()\n",
    "print('Loading %s word vectors.' % len(embeddings_index))"
   ]
  },
  {
   "cell_type": "code",
   "execution_count": 178,
   "metadata": {},
   "outputs": [],
   "source": [
    "embedding_matrix = np.zeros((vocab_size, 50))\n",
    "for word, i in t.word_index.items():\n",
    "    embedding_vector = embeddings_index.get(word) # extraire les vecteurs de mots a partir du modele Glove\n",
    "    if embedding_vector is not None:\n",
    "        # ajouté a la matrice\n",
    "        embedding_matrix[i] = embedding_vector"
   ]
  },
  {
   "cell_type": "code",
   "execution_count": 179,
   "metadata": {},
   "outputs": [],
   "source": [
    "# creé la couche embedding\n",
    "from tensorflow.keras.layers import Embedding\n",
    "# input en vocab_size, output en 50d\n",
    "# pondéré à partir la matrice embedding\n",
    "embedding_layer = Embedding(input_dim=vocab_size, output_dim=50, weights=[embedding_matrix],\n",
    "                           input_length = tweet_num, trainable=False)"
   ]
  },
  {
   "cell_type": "code",
   "execution_count": 200,
   "metadata": {},
   "outputs": [],
   "source": [
    "# fonction de visualisation extraite de la bibliothèque Sklearn\n",
    "def plot_confusion_matrix(y_true, y_pred, classes,\n",
    "                          normalize=False,\n",
    "                          title=None,\n",
    "                          cmap=plt.cm.Blues):\n",
    "    \"\"\"\n",
    "    This function prints and plots the confusion matrix.\n",
    "    Normalization can be applied by setting `normalize=True`.\n",
    "    \"\"\"\n",
    "    if not title:\n",
    "        if normalize:\n",
    "            title = 'Normalized confusion matrix'\n",
    "        else:\n",
    "            title = 'Confusion matrix, without normalization'\n",
    "\n",
    "    # Compute confusion matrix\n",
    "    cm = confusion_matrix(y_true, y_pred)\n",
    "    # Only use the labels that appear in the data\n",
    "    classes = classes[unique_labels(y_true, y_pred)]\n",
    "    if normalize:\n",
    "        cm = cm.astype('float') / cm.sum(axis=1)[:, np.newaxis]\n",
    "        print(\"Normalized confusion matrix\")\n",
    "    else:\n",
    "        print('Confusion matrix, without normalization')\n",
    "\n",
    "    print(cm)\n",
    "\n",
    "    fig, ax = plt.subplots()\n",
    "    im = ax.imshow(cm, interpolation='nearest', cmap=cmap)\n",
    "    ax.figure.colorbar(im, ax=ax)\n",
    "    # We want to show all ticks...\n",
    "    ax.set(xticks=np.arange(cm.shape[1]),\n",
    "           yticks=np.arange(cm.shape[0]),\n",
    "           # ... and label them with the respective list entries\n",
    "           xticklabels=classes, yticklabels=classes,\n",
    "           title=title,\n",
    "           ylabel='True label',\n",
    "           xlabel='Predicted label')\n",
    "\n",
    "    # Rotate the tick labels and set their alignment.\n",
    "    plt.setp(ax.get_xticklabels(), rotation=45, ha=\"right\",\n",
    "             rotation_mode=\"anchor\")\n",
    "\n",
    "    # Loop over data dimensions and create text annotations.\n",
    "    fmt = '.2f' if normalize else 'd'\n",
    "    thresh = cm.max() / 2.\n",
    "    for i in range(cm.shape[0]):\n",
    "        for j in range(cm.shape[1]):\n",
    "            ax.text(j, i, format(cm[i, j], fmt),\n",
    "                    ha=\"center\", va=\"center\",\n",
    "                    color=\"white\" if cm[i, j] > thresh else \"black\")\n",
    "    fig.tight_layout()\n",
    "    return ax"
   ]
  },
  {
   "cell_type": "code",
   "execution_count": 190,
   "metadata": {},
   "outputs": [
    {
     "name": "stdout",
     "output_type": "stream",
     "text": [
      "_________________________________________________________________\n",
      "Layer (type)                 Output Shape              Param #   \n",
      "=================================================================\n",
      "embedding_7 (Embedding)      (None, 12, 50)            3839000   \n",
      "_________________________________________________________________\n",
      "lstm_15 (LSTM)               (None, 256)               314368    \n",
      "_________________________________________________________________\n",
      "dense_15 (Dense)             (None, 2)                 514       \n",
      "=================================================================\n",
      "Total params: 4,153,882\n",
      "Trainable params: 314,882\n",
      "Non-trainable params: 3,839,000\n",
      "_________________________________________________________________\n"
     ]
    }
   ],
   "source": [
    "lstm_model = Sequential()\n",
    "lstm_model.add(embedding_layer)\n",
    "lstm_model.add(LSTM(256, \n",
    "               dropout = 0.2,\n",
    "               recurrent_dropout = 0.5))\n",
    "lstm_model.add(Dense(2, activation='softmax')) #couche de sortie\n",
    "lstm_model.compile(optimizer='adam', loss='categorical_crossentropy', metrics=['accuracy'])\n",
    "lstm_model.summary()\n"
   ]
  },
  {
   "cell_type": "code",
   "execution_count": 191,
   "metadata": {},
   "outputs": [
    {
     "name": "stdout",
     "output_type": "stream",
     "text": [
      "Train on 148500 samples, validate on 49500 samples\n",
      "Epoch 1/30\n",
      "148500/148500 [==============================] - 105s 705us/sample - loss: 0.6068 - acc: 0.6647 - val_loss: 0.5622 - val_acc: 0.7047\n",
      "Epoch 2/30\n",
      "148500/148500 [==============================] - 110s 743us/sample - loss: 0.5683 - acc: 0.6969 - val_loss: 0.5382 - val_acc: 0.7201\n",
      "Epoch 3/30\n",
      "148500/148500 [==============================] - 113s 758us/sample - loss: 0.5484 - acc: 0.7108 - val_loss: 0.5251 - val_acc: 0.7309\n",
      "Epoch 4/30\n",
      "148500/148500 [==============================] - 112s 755us/sample - loss: 0.5362 - acc: 0.7214 - val_loss: 0.5158 - val_acc: 0.7366\n",
      "Epoch 5/30\n",
      "148500/148500 [==============================] - 115s 773us/sample - loss: 0.5254 - acc: 0.7284 - val_loss: 0.5066 - val_acc: 0.7458\n",
      "Epoch 6/30\n",
      "148500/148500 [==============================] - 133s 898us/sample - loss: 0.5188 - acc: 0.7328 - val_loss: 0.4994 - val_acc: 0.7481\n",
      "Epoch 7/30\n",
      "148500/148500 [==============================] - 119s 804us/sample - loss: 0.5104 - acc: 0.7395 - val_loss: 0.4931 - val_acc: 0.7523\n",
      "Epoch 8/30\n",
      "148500/148500 [==============================] - 108s 730us/sample - loss: 0.5035 - acc: 0.7429 - val_loss: 0.4872 - val_acc: 0.7544\n",
      "Epoch 9/30\n",
      "148500/148500 [==============================] - 110s 743us/sample - loss: 0.4974 - acc: 0.7469 - val_loss: 0.4860 - val_acc: 0.7560\n",
      "Epoch 10/30\n",
      "148500/148500 [==============================] - 128s 863us/sample - loss: 0.4932 - acc: 0.7504 - val_loss: 0.4826 - val_acc: 0.7586\n",
      "Epoch 11/30\n",
      "148500/148500 [==============================] - 174s 1ms/sample - loss: 0.4879 - acc: 0.7550 - val_loss: 0.4841 - val_acc: 0.7564\n",
      "Epoch 12/30\n",
      "148500/148500 [==============================] - 161s 1ms/sample - loss: 0.4835 - acc: 0.7562 - val_loss: 0.4786 - val_acc: 0.7608\n",
      "Epoch 13/30\n",
      "148500/148500 [==============================] - 161s 1ms/sample - loss: 0.4798 - acc: 0.7604 - val_loss: 0.4724 - val_acc: 0.7643\n",
      "Epoch 14/30\n",
      "148500/148500 [==============================] - 161s 1ms/sample - loss: 0.4747 - acc: 0.7633 - val_loss: 0.4716 - val_acc: 0.7654\n",
      "Epoch 15/30\n",
      "148500/148500 [==============================] - 163s 1ms/sample - loss: 0.4707 - acc: 0.7660 - val_loss: 0.4712 - val_acc: 0.7672\n",
      "Epoch 16/30\n",
      "148500/148500 [==============================] - 166s 1ms/sample - loss: 0.4682 - acc: 0.7684 - val_loss: 0.4679 - val_acc: 0.7692\n",
      "Epoch 17/30\n",
      "148500/148500 [==============================] - 160s 1ms/sample - loss: 0.4647 - acc: 0.7700 - val_loss: 0.4668 - val_acc: 0.7669\n",
      "Epoch 18/30\n",
      "148500/148500 [==============================] - 151s 1ms/sample - loss: 0.4615 - acc: 0.7718 - val_loss: 0.4694 - val_acc: 0.7725\n",
      "Epoch 19/30\n",
      "148500/148500 [==============================] - 149s 1ms/sample - loss: 0.4576 - acc: 0.7751 - val_loss: 0.4655 - val_acc: 0.7710\n",
      "Epoch 20/30\n",
      "148500/148500 [==============================] - 151s 1ms/sample - loss: 0.4553 - acc: 0.7761 - val_loss: 0.4686 - val_acc: 0.7673\n",
      "Epoch 21/30\n",
      "148500/148500 [==============================] - 150s 1ms/sample - loss: 0.4533 - acc: 0.7770 - val_loss: 0.4640 - val_acc: 0.7737\n",
      "Epoch 22/30\n",
      "148500/148500 [==============================] - 150s 1ms/sample - loss: 0.4501 - acc: 0.7799 - val_loss: 0.4616 - val_acc: 0.7732\n",
      "Epoch 23/30\n",
      "148500/148500 [==============================] - 155s 1ms/sample - loss: 0.4476 - acc: 0.7808 - val_loss: 0.4636 - val_acc: 0.7738\n",
      "Epoch 24/30\n",
      "148500/148500 [==============================] - 155s 1ms/sample - loss: 0.4456 - acc: 0.7827 - val_loss: 0.4608 - val_acc: 0.7757\n",
      "Epoch 25/30\n",
      "148500/148500 [==============================] - 155s 1ms/sample - loss: 0.4429 - acc: 0.7836 - val_loss: 0.4643 - val_acc: 0.7734\n",
      "Epoch 26/30\n",
      "148500/148500 [==============================] - 157s 1ms/sample - loss: 0.4421 - acc: 0.7844 - val_loss: 0.4584 - val_acc: 0.7759\n",
      "Epoch 27/30\n",
      "148500/148500 [==============================] - 154s 1ms/sample - loss: 0.4400 - acc: 0.7858 - val_loss: 0.4601 - val_acc: 0.7778\n",
      "Epoch 28/30\n",
      "148500/148500 [==============================] - 159s 1ms/sample - loss: 0.4386 - acc: 0.7857 - val_loss: 0.4634 - val_acc: 0.7763\n",
      "Epoch 29/30\n",
      "148500/148500 [==============================] - 172s 1ms/sample - loss: 0.4351 - acc: 0.7895 - val_loss: 0.4597 - val_acc: 0.7763\n",
      "Epoch 30/30\n",
      "148500/148500 [==============================] - 189s 1ms/sample - loss: 0.4339 - acc: 0.7895 - val_loss: 0.4602 - val_acc: 0.7763\n",
      "Wall time: 1h 12min 31s\n"
     ]
    }
   ],
   "source": [
    "%%time\n",
    "nb_epoch = 30\n",
    "training_model = lstm_model.fit(x_train, y_train,\n",
    "                        validation_split = 0.25,\n",
    "                        epochs=nb_epoch, batch_size=256)"
   ]
  },
  {
   "cell_type": "code",
   "execution_count": 219,
   "metadata": {},
   "outputs": [
    {
     "data": {
      "image/png": "[encoded data removed]",
      "text/plain": [
       "<Figure size 864x432 with 1 Axes>"
      ]
     },
     "metadata": {
      "needs_background": "light"
     },
     "output_type": "display_data"
    },
    {
     "data": {
      "image/png": "[encoded data removed]",
      "text/plain": [
       "<Figure size 864x432 with 1 Axes>"
      ]
     },
     "metadata": {
      "needs_background": "light"
     },
     "output_type": "display_data"
    },
    {
     "name": "stdout",
     "output_type": "stream",
     "text": [
      "Training Accuracy: 0.8092\n",
      "Testing Accuracy:  0.8224\n"
     ]
    }
   ],
   "source": [
    "acc = training_model.history['acc']\n",
    "val_acc = training_model.history['val_acc']\n",
    "loss = training_model.history['loss']\n",
    "val_loss = training_model.history['val_loss']\n",
    "\n",
    "epochs = range(len(acc))\n",
    "\n",
    "plt.figure(figsize=(12,6))\n",
    "\n",
    "plt.plot(epochs, acc, 'g', label='Training acc')\n",
    "plt.plot(epochs, val_acc, 'b', label='Validation acc')\n",
    "plt.title('Training and validation accuracy (Exactitude) ')\n",
    "plt.legend()\n",
    "\n",
    "plt.figure(figsize=(12,6))\n",
    "\n",
    "\n",
    "plt.plot(epochs, loss, 'g', label='Training loss')\n",
    "plt.plot(epochs, val_loss, 'b', label='Validation loss')\n",
    "plt.title('Training and validation loss (cout) ')\n",
    "plt.legend()\n",
    "\n",
    "plt.show()\n",
    "\n",
    "loss, accuracy = lstm_model.evaluate(x_train, y_train, verbose=False)\n",
    "print(\"Training Accuracy: {:.4f}\".format(accuracy))\n",
    "\n",
    "loss, accuracy = lstm_model.evaluate(x_test, y_test, verbose=False)\n",
    "print(\"Testing Accuracy:  {:.4f}\".format(accuracy))\n"
   ]
  },
  {
   "cell_type": "code",
   "execution_count": 204,
   "metadata": {},
   "outputs": [],
   "source": [
    "# les valeurs de prédiction\n",
    "y_pred = lstm_model.predict(x_test)  # outputs\n",
    "# numpy array vide pour observation \n",
    "y_pred_array = np.zeros(x_test.shape[0])\n",
    "\n",
    "# prédire les classes\n",
    "for i in range(0, y_pred.shape[0]):\n",
    "    label_predict = np.argmax(y_pred[i]) # column with max probability\n",
    "    y_pred_array[i] = label_predict\n",
    "\n",
    "# convertir en entier\n",
    "y_pred_array = y_pred_array.astype(int)"
   ]
  },
  {
   "cell_type": "code",
   "execution_count": 205,
   "metadata": {},
   "outputs": [],
   "source": [
    "y_test_array = np.zeros(x_test.shape[0])\n",
    "\n",
    "for i in range(0, y_test.shape[0]):\n",
    "    label_predict = np.argmax(y_test[i])\n",
    "    y_test_array[i] = label_predict\n",
    "\n",
    "y_test_array = y_test_array.astype(int)"
   ]
  },
  {
   "cell_type": "code",
   "execution_count": 206,
   "metadata": {},
   "outputs": [],
   "source": [
    "class_names = np.array(['Negative', 'Positive'])"
   ]
  },
  {
   "cell_type": "code",
   "execution_count": 257,
   "metadata": {},
   "outputs": [
    {
     "name": "stdout",
     "output_type": "stream",
     "text": [
      "Matrice de confusion\n",
      "[[20215  4122]\n",
      " [ 4760 20903]]\n",
      "              precision    recall  f1-score   support\n",
      "\n",
      "           0       0.81      0.83      0.82     24337\n",
      "           1       0.84      0.81      0.82     25663\n",
      "\n",
      "    accuracy                           0.82     50000\n",
      "   macro avg       0.82      0.82      0.82     50000\n",
      "weighted avg       0.82      0.82      0.82     50000\n",
      "\n",
      "Confusion matrix, without normalization\n",
      "[[20215  4122]\n",
      " [ 4760 20903]]\n"
     ]
    },
    {
     "data": {
      "image/png": "[encoded data removed]",
      "text/plain": [
       "<Figure size 432x288 with 2 Axes>"
      ]
     },
     "metadata": {
      "needs_background": "light"
     },
     "output_type": "display_data"
    }
   ],
   "source": [
    "from sklearn.metrics import accuracy_score\n",
    "from sklearn.metrics import classification_report\n",
    "\n",
    "np.set_printoptions(precision=2)\n",
    "\n",
    "print(\"Matrice de confusion\")\n",
    "print (confusion_matrix(y_test_array, y_pred_array))\n",
    "print (classification_report(y_test_array, y_pred_array))\n",
    "\n",
    "# Plot pour la visualisation confusion matrix\n",
    "plot_confusion_matrix(y_test_array, y_pred_array, classes=class_names,\n",
    "                      title='Confusion matrix')\n",
    "\n",
    "plt.show()"
   ]
  },
  {
   "cell_type": "code",
   "execution_count": 245,
   "metadata": {},
   "outputs": [],
   "source": [
    "# enregistrement du modéle\n",
    "lstm_model.save('./ModelML/modelSA.h5')"
   ]
  }
 ],
 "metadata": {
  "kernelspec": {
   "display_name": "Python 3",
   "language": "python",
   "name": "python3"
  },
  "language_info": {
   "codemirror_mode": {
    "name": "ipython",
    "version": 3
   },
   "file_extension": ".py",
   "mimetype": "text/x-python",
   "name": "python",
   "nbconvert_exporter": "python",
   "pygments_lexer": "ipython3",
   "version": "3.7.3"
  }
 },
 "nbformat": 4,
 "nbformat_minor": 4
}
